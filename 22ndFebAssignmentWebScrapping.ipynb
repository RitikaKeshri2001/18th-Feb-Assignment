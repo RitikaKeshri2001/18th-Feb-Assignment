{
 "cells": [
  {
   "cell_type": "code",
   "execution_count": 1,
   "metadata": {},
   "outputs": [],
   "source": [
    "import selenium\n",
    "from selenium import webdriver\n",
    "import pandas as pd\n",
    "import warnings \n",
    "warnings.filterwarnings('ignore')\n",
    "from selenium.webdriver.common.by import By\n",
    "import time"
   ]
  },
  {
   "cell_type": "code",
   "execution_count": 2,
   "metadata": {},
   "outputs": [],
   "source": [
    "driver = webdriver.Chrome()\n",
    "driver.get('https://www.youtube.com/@PW-Foundation/videos')"
   ]
  },
  {
   "cell_type": "markdown",
   "metadata": {},
   "source": [
    "#### Q1. Write a python program to extract the video URL of the first five videos."
   ]
  },
  {
   "cell_type": "code",
   "execution_count": 3,
   "metadata": {},
   "outputs": [
    {
     "data": {
      "text/plain": [
       "['https://www.youtube.com/watch?v=CaKSw_Rc8ww',\n",
       " 'https://www.youtube.com/watch?v=a3klf9QIUg8',\n",
       " 'https://www.youtube.com/watch?v=c5ofp1xzqlU',\n",
       " 'https://www.youtube.com/watch?v=kb_7oC79280',\n",
       " 'https://www.youtube.com/watch?v=VF8ORgF1OBo']"
      ]
     },
     "execution_count": 3,
     "metadata": {},
     "output_type": "execute_result"
    }
   ],
   "source": [
    "# url of first five video\n",
    "url = []\n",
    "for i in driver.find_elements(By.XPATH, '//a[@class=\"yt-simple-endpoint focus-on-expand style-scope ytd-rich-grid-media\"]')[:5]:\n",
    "    url.append(i.get_attribute('href'))\n",
    "\n",
    "url"
   ]
  },
  {
   "cell_type": "markdown",
   "metadata": {},
   "source": [
    "#### Q2. Write a python program to extract the URL of the video thumbnails of the first five videos."
   ]
  },
  {
   "cell_type": "code",
   "execution_count": 14,
   "metadata": {},
   "outputs": [
    {
     "data": {
      "text/plain": [
       "['https://i.ytimg.com/vi/CaKSw_Rc8ww/hqdefault.jpg?sqp=-oaymwEcCNACELwBSFXyq4qpAw4IARUAAIhCGAFwAcABBg==&rs=AOn4CLDRToFy7A-uU9GRrmcDZS4YAW1u2g',\n",
       " 'https://i.ytimg.com/vi/a3klf9QIUg8/hqdefault.jpg?sqp=-oaymwEcCNACELwBSFXyq4qpAw4IARUAAIhCGAFwAcABBg==&rs=AOn4CLAsQX55hs6KcwI_9jJFC9jERw7Dzg',\n",
       " 'https://i.ytimg.com/vi/c5ofp1xzqlU/hqdefault.jpg?sqp=-oaymwEcCNACELwBSFXyq4qpAw4IARUAAIhCGAFwAcABBg==&rs=AOn4CLBmhD2ohVSDlKAY_gpsWVUtw_P23w',\n",
       " 'https://i.ytimg.com/vi/kb_7oC79280/hqdefault.jpg?sqp=-oaymwEcCNACELwBSFXyq4qpAw4IARUAAIhCGAFwAcABBg==&rs=AOn4CLDPkfGJCsRNq6RKBEnmCMoS9ktx0w',\n",
       " 'https://i.ytimg.com/vi/VF8ORgF1OBo/hqdefault.jpg?sqp=-oaymwEcCNACELwBSFXyq4qpAw4IARUAAIhCGAFwAcABBg==&rs=AOn4CLDzEC2RHoc3qO0a5nlN0T7Dy_RXUQ']"
      ]
     },
     "execution_count": 14,
     "metadata": {},
     "output_type": "execute_result"
    }
   ],
   "source": [
    "thumbnail = []\n",
    "for i in driver.find_elements(By.XPATH, '//img[@class=\"yt-core-image yt-core-image--fill-parent-height yt-core-image--fill-parent-width yt-core-image--content-mode-scale-aspect-fill yt-core-image--loaded\"]')[1:6]:\n",
    "    thumbnail.append(i.get_attribute('src'))\n",
    "\n",
    "thumbnail"
   ]
  },
  {
   "cell_type": "markdown",
   "metadata": {},
   "source": [
    "#### Q3. Write a python program to extract the title of the first five videos."
   ]
  },
  {
   "cell_type": "code",
   "execution_count": 5,
   "metadata": {},
   "outputs": [
    {
     "data": {
      "text/plain": [
       "['The Fundamental Unit of Life ONE SHOT || Full Chapter || Class 9th Science || Chapter 1',\n",
       " 'Life Processes ONE SHOT || Full Chapter Line by Line || Class 10th Science || Chapter 1',\n",
       " \"Complete NCERT Line by Line with Samridhi Ma'am 🎯 | FREE YT Series 🔥️ | Class 10th\",\n",
       " 'The Most UNIQUE Way to Solve Quadratic Equations! 🤩 Class 10',\n",
       " 'NUTRITION IN HUMAN BEINGS: Complete Topic in 10 Minutes | Class 10th Board Exam ⚡']"
      ]
     },
     "execution_count": 5,
     "metadata": {},
     "output_type": "execute_result"
    }
   ],
   "source": [
    "title = []\n",
    "for i in driver.find_elements(By.XPATH, '//a[@class=\"yt-simple-endpoint focus-on-expand style-scope ytd-rich-grid-media\"]')[:5]:\n",
    "    title.append(i.text)\n",
    "\n",
    "title"
   ]
  },
  {
   "cell_type": "markdown",
   "metadata": {},
   "source": [
    "#### Q4. Write a python program to extract the number of views of the first five videos."
   ]
  },
  {
   "cell_type": "code",
   "execution_count": 8,
   "metadata": {},
   "outputs": [
    {
     "data": {
      "text/plain": [
       "['20K views', '95K views', '100K views', '94K views', '51K views']"
      ]
     },
     "execution_count": 8,
     "metadata": {},
     "output_type": "execute_result"
    }
   ],
   "source": [
    "l = []\n",
    "for i in driver.find_elements(By.XPATH, '//div[@class=\"style-scope ytd-video-meta-block\"]/span')[:10]:\n",
    "    l.append(i.text)\n",
    "\n",
    "views = []\n",
    "for i in range(len(l)):\n",
    "    if i%2 == 0:\n",
    "        views.append(l[i])\n",
    "\n",
    "views"
   ]
  },
  {
   "cell_type": "markdown",
   "metadata": {},
   "source": [
    "#### Q5. Write a python program to extract the time of posting of video for the first five videos."
   ]
  },
  {
   "cell_type": "code",
   "execution_count": 9,
   "metadata": {},
   "outputs": [
    {
     "data": {
      "text/plain": [
       "['19 hours ago', '3 days ago', '9 days ago', '2 weeks ago', '4 weeks ago']"
      ]
     },
     "execution_count": 9,
     "metadata": {},
     "output_type": "execute_result"
    }
   ],
   "source": [
    "time_of_posting = []\n",
    "for i in range(len(l)):\n",
    "    if i%2 != 0:\n",
    "        time_of_posting.append(l[i])\n",
    "\n",
    "time_of_posting"
   ]
  },
  {
   "cell_type": "markdown",
   "metadata": {},
   "source": [
    "#### Save all the data scraped in the above questions in a CSV file."
   ]
  },
  {
   "cell_type": "code",
   "execution_count": 15,
   "metadata": {},
   "outputs": [
    {
     "data": {
      "text/html": [
       "<div>\n",
       "<style scoped>\n",
       "    .dataframe tbody tr th:only-of-type {\n",
       "        vertical-align: middle;\n",
       "    }\n",
       "\n",
       "    .dataframe tbody tr th {\n",
       "        vertical-align: top;\n",
       "    }\n",
       "\n",
       "    .dataframe thead th {\n",
       "        text-align: right;\n",
       "    }\n",
       "</style>\n",
       "<table border=\"1\" class=\"dataframe\">\n",
       "  <thead>\n",
       "    <tr style=\"text-align: right;\">\n",
       "      <th></th>\n",
       "      <th>Url</th>\n",
       "      <th>Thumbnails</th>\n",
       "      <th>Title</th>\n",
       "      <th>Number of views</th>\n",
       "      <th>Time of posting</th>\n",
       "    </tr>\n",
       "  </thead>\n",
       "  <tbody>\n",
       "    <tr>\n",
       "      <th>0</th>\n",
       "      <td>https://www.youtube.com/watch?v=CaKSw_Rc8ww</td>\n",
       "      <td>https://i.ytimg.com/vi/CaKSw_Rc8ww/hqdefault.j...</td>\n",
       "      <td>The Fundamental Unit of Life ONE SHOT || Full ...</td>\n",
       "      <td>20K views</td>\n",
       "      <td>19 hours ago</td>\n",
       "    </tr>\n",
       "    <tr>\n",
       "      <th>1</th>\n",
       "      <td>https://www.youtube.com/watch?v=a3klf9QIUg8</td>\n",
       "      <td>https://i.ytimg.com/vi/a3klf9QIUg8/hqdefault.j...</td>\n",
       "      <td>Life Processes ONE SHOT || Full Chapter Line b...</td>\n",
       "      <td>95K views</td>\n",
       "      <td>3 days ago</td>\n",
       "    </tr>\n",
       "    <tr>\n",
       "      <th>2</th>\n",
       "      <td>https://www.youtube.com/watch?v=c5ofp1xzqlU</td>\n",
       "      <td>https://i.ytimg.com/vi/c5ofp1xzqlU/hqdefault.j...</td>\n",
       "      <td>Complete NCERT Line by Line with Samridhi Ma'a...</td>\n",
       "      <td>100K views</td>\n",
       "      <td>9 days ago</td>\n",
       "    </tr>\n",
       "    <tr>\n",
       "      <th>3</th>\n",
       "      <td>https://www.youtube.com/watch?v=kb_7oC79280</td>\n",
       "      <td>https://i.ytimg.com/vi/kb_7oC79280/hqdefault.j...</td>\n",
       "      <td>The Most UNIQUE Way to Solve Quadratic Equatio...</td>\n",
       "      <td>94K views</td>\n",
       "      <td>2 weeks ago</td>\n",
       "    </tr>\n",
       "    <tr>\n",
       "      <th>4</th>\n",
       "      <td>https://www.youtube.com/watch?v=VF8ORgF1OBo</td>\n",
       "      <td>https://i.ytimg.com/vi/VF8ORgF1OBo/hqdefault.j...</td>\n",
       "      <td>NUTRITION IN HUMAN BEINGS: Complete Topic in 1...</td>\n",
       "      <td>51K views</td>\n",
       "      <td>4 weeks ago</td>\n",
       "    </tr>\n",
       "  </tbody>\n",
       "</table>\n",
       "</div>"
      ],
      "text/plain": [
       "                                           Url  \\\n",
       "0  https://www.youtube.com/watch?v=CaKSw_Rc8ww   \n",
       "1  https://www.youtube.com/watch?v=a3klf9QIUg8   \n",
       "2  https://www.youtube.com/watch?v=c5ofp1xzqlU   \n",
       "3  https://www.youtube.com/watch?v=kb_7oC79280   \n",
       "4  https://www.youtube.com/watch?v=VF8ORgF1OBo   \n",
       "\n",
       "                                          Thumbnails  \\\n",
       "0  https://i.ytimg.com/vi/CaKSw_Rc8ww/hqdefault.j...   \n",
       "1  https://i.ytimg.com/vi/a3klf9QIUg8/hqdefault.j...   \n",
       "2  https://i.ytimg.com/vi/c5ofp1xzqlU/hqdefault.j...   \n",
       "3  https://i.ytimg.com/vi/kb_7oC79280/hqdefault.j...   \n",
       "4  https://i.ytimg.com/vi/VF8ORgF1OBo/hqdefault.j...   \n",
       "\n",
       "                                               Title Number of views  \\\n",
       "0  The Fundamental Unit of Life ONE SHOT || Full ...       20K views   \n",
       "1  Life Processes ONE SHOT || Full Chapter Line b...       95K views   \n",
       "2  Complete NCERT Line by Line with Samridhi Ma'a...      100K views   \n",
       "3  The Most UNIQUE Way to Solve Quadratic Equatio...       94K views   \n",
       "4  NUTRITION IN HUMAN BEINGS: Complete Topic in 1...       51K views   \n",
       "\n",
       "  Time of posting  \n",
       "0    19 hours ago  \n",
       "1      3 days ago  \n",
       "2      9 days ago  \n",
       "3     2 weeks ago  \n",
       "4     4 weeks ago  "
      ]
     },
     "execution_count": 15,
     "metadata": {},
     "output_type": "execute_result"
    }
   ],
   "source": [
    "df = pd.DataFrame({\n",
    "    'Url':url,\n",
    "    'Thumbnails':thumbnail,\n",
    "    'Title':title,\n",
    "    'Number of views':views,\n",
    "    'Time of posting':time_of_posting\n",
    "})\n",
    "\n",
    "df"
   ]
  },
  {
   "cell_type": "code",
   "execution_count": 16,
   "metadata": {},
   "outputs": [],
   "source": [
    "df.to_csv('youtube_data_scrapped.csv', index=False)"
   ]
  },
  {
   "cell_type": "code",
   "execution_count": null,
   "metadata": {},
   "outputs": [],
   "source": []
  }
 ],
 "metadata": {
  "kernelspec": {
   "display_name": "Python 3",
   "language": "python",
   "name": "python3"
  },
  "language_info": {
   "codemirror_mode": {
    "name": "ipython",
    "version": 3
   },
   "file_extension": ".py",
   "mimetype": "text/x-python",
   "name": "python",
   "nbconvert_exporter": "python",
   "pygments_lexer": "ipython3",
   "version": "3.12.3"
  }
 },
 "nbformat": 4,
 "nbformat_minor": 2
}
